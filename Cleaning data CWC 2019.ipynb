{
 "cells": [
  {
   "cell_type": "code",
   "execution_count": 1,
   "id": "0825c143",
   "metadata": {},
   "outputs": [],
   "source": [
    "#import necessary libraries\n",
    "import pandas as pd\n",
    "import numpy as np\n",
    "\n"
   ]
  },
  {
   "cell_type": "markdown",
   "id": "637f0f59",
   "metadata": {},
   "source": [
    "### Batting data"
   ]
  },
  {
   "cell_type": "code",
   "execution_count": 2,
   "id": "a48c9568",
   "metadata": {},
   "outputs": [],
   "source": [
    "urls = [\n",
    "    'https://www.espncricinfo.com/series/icc-cricket-world-cup-2019-1144415/england-vs-south-africa-1st-match-1144483/full-scorecard',\n",
    "    'https://www.espncricinfo.com/series/icc-cricket-world-cup-2019-1144415/pakistan-vs-west-indies-2nd-match-1144484/full-scorecard',\n",
    "    'https://www.espncricinfo.com/series/icc-cricket-world-cup-2019-1144415/new-zealand-vs-sri-lanka-3rd-match-1144485/full-scorecard',\n",
    "    'https://www.espncricinfo.com/series/icc-cricket-world-cup-2019-1144415/afghanistan-vs-australia-4th-match-1144486/full-scorecard',\n",
    "    'https://www.espncricinfo.com/series/icc-cricket-world-cup-2019-1144415/bangladesh-vs-south-africa-5th-match-1144487/full-scorecard',\n",
    "    'https://www.espncricinfo.com/series/icc-cricket-world-cup-2019-1144415/england-vs-pakistan-6th-match-1144488/full-scorecard',\n",
    "    'https://www.espncricinfo.com/series/icc-cricket-world-cup-2019-1144415/afghanistan-vs-sri-lanka-7th-match-1144489/full-scorecard',\n",
    "    'https://www.espncricinfo.com/series/icc-cricket-world-cup-2019-1144415/india-vs-south-africa-8th-match-1144490/full-scorecard',\n",
    "    'https://www.espncricinfo.com/series/icc-cricket-world-cup-2019-1144415/bangladesh-vs-new-zealand-9th-match-1144491/full-scorecard',\n",
    "    'https://www.espncricinfo.com/series/icc-cricket-world-cup-2019-1144415/australia-vs-west-indies-10th-match-1144492/full-scorecard',\n",
    "    'https://www.espncricinfo.com/series/icc-cricket-world-cup-2019-1144415/england-vs-bangladesh-12th-match-1144494/full-scorecard',\n",
    "    'https://www.espncricinfo.com/series/icc-cricket-world-cup-2019-1144415/afghanistan-vs-new-zealand-13th-match-1144495/full-scorecard',\n",
    "    'https://www.espncricinfo.com/series/icc-cricket-world-cup-2019-1144415/australia-vs-india-14th-match-1144496/full-scorecard',\n",
    "    'https://www.espncricinfo.com/series/icc-cricket-world-cup-2019-1144415/south-africa-vs-west-indies-15th-match-1144497/full-scorecard',\n",
    "    'https://www.espncricinfo.com/series/icc-cricket-world-cup-2019-1144415/australia-vs-pakistan-17th-match-1144499/full-scorecard',\n",
    "    'https://www.espncricinfo.com/series/icc-cricket-world-cup-2019-1144415/england-vs-west-indies-19th-match-1144501/full-scorecard',\n",
    "    'https://www.espncricinfo.com/series/icc-cricket-world-cup-2019-1144415/australia-vs-sri-lanka-20th-match-1144502/full-scorecard',\n",
    "    'https://www.espncricinfo.com/series/icc-cricket-world-cup-2019-1144415/afghanistan-vs-south-africa-21st-match-1144503/full-scorecard',\n",
    "    'https://www.espncricinfo.com/series/icc-cricket-world-cup-2019-1144415/india-vs-pakistan-22nd-match-1144504/full-scorecard',\n",
    "    'https://www.espncricinfo.com/series/icc-cricket-world-cup-2019-1144415/bangladesh-vs-west-indies-23rd-match-1144505/full-scorecard',\n",
    "    'https://www.espncricinfo.com/series/icc-cricket-world-cup-2019-1144415/england-vs-afghanistan-24th-match-1144506/full-scorecard',\n",
    "    'https://www.espncricinfo.com/series/icc-cricket-world-cup-2019-1144415/new-zealand-vs-south-africa-25th-match-1144507/full-scorecard',\n",
    "    'https://www.espncricinfo.com/series/icc-cricket-world-cup-2019-1144415/australia-vs-bangladesh-26th-match-1144508/full-scorecard',\n",
    "    'https://www.espncricinfo.com/series/icc-cricket-world-cup-2019-1144415/england-vs-sri-lanka-27th-match-1144509/full-scorecard',\n",
    "    'https://www.espncricinfo.com/series/icc-cricket-world-cup-2019-1144415/afghanistan-vs-india-28th-match-1144510/full-scorecard',\n",
    "    'https://www.espncricinfo.com/series/icc-cricket-world-cup-2019-1144415/new-zealand-vs-west-indies-29th-match-1144511/full-scorecard',\n",
    "    'https://www.espncricinfo.com/series/icc-cricket-world-cup-2019-1144415/pakistan-vs-south-africa-30th-match-1144512/full-scorecard',\n",
    "    'https://www.espncricinfo.com/series/icc-cricket-world-cup-2019-1144415/afghanistan-vs-bangladesh-31st-match-1144513/full-scorecard',\n",
    "    'https://www.espncricinfo.com/series/icc-cricket-world-cup-2019-1144415/england-vs-australia-32nd-match-1144514/full-scorecard',\n",
    "    'https://www.espncricinfo.com/series/icc-cricket-world-cup-2019-1144415/new-zealand-vs-pakistan-33rd-match-1144515/full-scorecard',\n",
    "    'https://www.espncricinfo.com/series/icc-cricket-world-cup-2019-1144415/india-vs-west-indies-34th-match-1144516/full-scorecard',\n",
    "    'https://www.espncricinfo.com/series/icc-cricket-world-cup-2019-1144415/south-africa-vs-sri-lanka-35th-match-1144517/full-scorecard',\n",
    "    'https://www.espncricinfo.com/series/icc-cricket-world-cup-2019-1144415/afghanistan-vs-pakistan-36th-match-1144518/full-scorecard',\n",
    "    'https://www.espncricinfo.com/series/icc-cricket-world-cup-2019-1144415/australia-vs-new-zealand-37th-match-1144519/full-scorecard',\n",
    "    'https://www.espncricinfo.com/series/icc-cricket-world-cup-2019-1144415/england-vs-india-38th-match-1144520/full-scorecard',\n",
    "    'https://www.espncricinfo.com/series/icc-cricket-world-cup-2019-1144415/sri-lanka-vs-west-indies-39th-match-1144521/full-scorecard',\n",
    "    'https://www.espncricinfo.com/series/icc-cricket-world-cup-2019-1144415/bangladesh-vs-india-40th-match-1144522/full-scorecard',\n",
    "    'https://www.espncricinfo.com/series/icc-cricket-world-cup-2019-1144415/england-vs-new-zealand-41st-match-1144523/full-scorecard',\n",
    "    'https://www.espncricinfo.com/series/icc-cricket-world-cup-2019-1144415/afghanistan-vs-west-indies-42nd-match-1144524/full-scorecard',\n",
    "    'https://www.espncricinfo.com/series/icc-cricket-world-cup-2019-1144415/bangladesh-vs-pakistan-43rd-match-1144525/full-scorecard',\n",
    "    'https://www.espncricinfo.com/series/icc-cricket-world-cup-2019-1144415/india-vs-sri-lanka-44th-match-1144526/full-scorecard',\n",
    "    'https://www.espncricinfo.com/series/icc-cricket-world-cup-2019-1144415/australia-vs-south-africa-45th-match-1144527/full-scorecard',\n",
    "    'https://www.espncricinfo.com/series/icc-cricket-world-cup-2019-1144415/india-vs-new-zealand-1st-semi-final-1144528/full-scorecard',\n",
    "    'https://www.espncricinfo.com/series/icc-cricket-world-cup-2019-1144415/england-vs-australia-2nd-semi-final-1144529/full-scorecard',\n",
    "    'https://www.espncricinfo.com/series/icc-cricket-world-cup-2019-1144415/england-vs-new-zealand-final-1144530/full-scorecard'\n",
    "    \n",
    "]\n",
    "\n",
    "# Create an empty list to store the extracted tables\n",
    "tables_list = []\n",
    "\n",
    "# Iterate over each URL\n",
    "for url in urls:\n",
    "    # Extract tables from each URL\n",
    "    tables = pd.read_html(url)\n",
    "    # Get the first and third tables\n",
    "    first_table = tables[0]\n",
    "    third_table = tables[2]\n",
    "    # Find the row containing \"Extras\"\n",
    "    extras_row_index = first_table[first_table.apply(lambda row: 'Extras' in row.values, axis=1)].index\n",
    "    if not extras_row_index.empty:\n",
    "        extras_row_index = extras_row_index.item()\n",
    "        # Remove the row containing \"Extras\" and all the rows below it\n",
    "        first_table = first_table.loc[:extras_row_index - 1]\n",
    "    \n",
    "    # Find the row containing \"Extras\"\n",
    "    extras_row_index = third_table[third_table.apply(lambda row: 'Extras' in row.values, axis=1)].index\n",
    "    if not extras_row_index.empty:\n",
    "        extras_row_index = extras_row_index.item()\n",
    "        # Remove the row containing \"Extras\" and all the rows below it\n",
    "        third_table = third_table.loc[:extras_row_index - 1]\n",
    "    \n",
    "    # Append the filtered tables to the list\n",
    "    tables_list.extend([first_table, third_table])\n",
    "\n",
    "# Concatenate the tables in the list\n",
    "combined_table = pd.concat(tables_list)\n",
    "\n",
    "\n",
    "# Display the combined table making its dataframe.\n",
    "\n",
    "df_batting=pd.DataFrame(combined_table)\n",
    "df_batting"
   ]
  },
  {
   "cell_type": "code",
   "execution_count": 3,
   "id": "698777eb",
   "metadata": {},
   "outputs": [],
   "source": [
    "# Delete the unnecessary columns\n",
    "df_batting = df_batting.iloc[:, :-4]\n",
    "df_batting"
   ]
  },
  {
   "cell_type": "code",
   "execution_count": 4,
   "id": "3ac3cc69",
   "metadata": {},
   "outputs": [],
   "source": [
    "# Drop rows with NaN values\n",
    "df_batting = df_batting.dropna()\n",
    "\n",
    "# Reset the index\n",
    "df_batting = df_batting.reset_index(drop=True)\n",
    "df_batting"
   ]
  },
  {
   "cell_type": "code",
   "execution_count": 5,
   "id": "281062de",
   "metadata": {},
   "outputs": [],
   "source": [
    "# rename unnamed column\n",
    "df_batting = df_batting.rename(columns={'Unnamed: 1': 'dismissal'})\n",
    "# rename names column\n",
    "df_batting = df_batting.rename(columns={'BATTING': 'name'})"
   ]
  },
  {
   "cell_type": "code",
   "execution_count": 6,
   "id": "c639a8c1",
   "metadata": {},
   "outputs": [],
   "source": [
    "# Eliminate weird characters\n",
    "df_batting['name'] = df_batting['name'].apply(lambda x: x.replace('â€', '')) \n",
    "df_batting['name'] = df_batting['name'].apply(lambda x: x.replace('†', ''))\n",
    "df_batting['name'] = df_batting['name'].apply(lambda x: x.replace('\\xa0', ''))\n",
    "df_batting['dismissal'] = df_batting['dismissal'].apply(lambda x: x.replace('\\xa0', ''))\n",
    "df_batting['dismissal'] = df_batting['dismissal'].apply(lambda x: x.replace('â€', '')) \n",
    "df_batting['dismissal'] = df_batting['dismissal'].apply(lambda x: x.replace('†', ''))"
   ]
  },
  {
   "cell_type": "code",
   "execution_count": 7,
   "id": "ca03cff7",
   "metadata": {},
   "outputs": [],
   "source": [
    "#creating out or not out column to find exact average.\n",
    "df_batting['out or not_out'] = df_batting.dismissal.apply(lambda x: 'not_out' if x==\"not out\" else 'out')\n",
    "df_batting.head(15)"
   ]
  },
  {
   "cell_type": "code",
   "execution_count": 8,
   "id": "77c725d6",
   "metadata": {},
   "outputs": [],
   "source": [
    "# Exporting to CSV\n",
    "df_batting.to_csv(\"Batting.csv\", index=False)"
   ]
  },
  {
   "cell_type": "markdown",
   "id": "54e575b6",
   "metadata": {},
   "source": [
    "### Bowling data"
   ]
  },
  {
   "cell_type": "code",
   "execution_count": 9,
   "id": "6ecdd0c1",
   "metadata": {},
   "outputs": [],
   "source": [
    "urls = [\n",
    "    'https://www.espncricinfo.com/series/icc-cricket-world-cup-2019-1144415/england-vs-south-africa-1st-match-1144483/full-scorecard',\n",
    "    'https://www.espncricinfo.com/series/icc-cricket-world-cup-2019-1144415/pakistan-vs-west-indies-2nd-match-1144484/full-scorecard',\n",
    "    'https://www.espncricinfo.com/series/icc-cricket-world-cup-2019-1144415/new-zealand-vs-sri-lanka-3rd-match-1144485/full-scorecard',\n",
    "    'https://www.espncricinfo.com/series/icc-cricket-world-cup-2019-1144415/afghanistan-vs-australia-4th-match-1144486/full-scorecard',\n",
    "    'https://www.espncricinfo.com/series/icc-cricket-world-cup-2019-1144415/bangladesh-vs-south-africa-5th-match-1144487/full-scorecard',\n",
    "    'https://www.espncricinfo.com/series/icc-cricket-world-cup-2019-1144415/england-vs-pakistan-6th-match-1144488/full-scorecard',\n",
    "    'https://www.espncricinfo.com/series/icc-cricket-world-cup-2019-1144415/afghanistan-vs-sri-lanka-7th-match-1144489/full-scorecard',\n",
    "    'https://www.espncricinfo.com/series/icc-cricket-world-cup-2019-1144415/india-vs-south-africa-8th-match-1144490/full-scorecard',\n",
    "    'https://www.espncricinfo.com/series/icc-cricket-world-cup-2019-1144415/bangladesh-vs-new-zealand-9th-match-1144491/full-scorecard',\n",
    "    'https://www.espncricinfo.com/series/icc-cricket-world-cup-2019-1144415/australia-vs-west-indies-10th-match-1144492/full-scorecard',\n",
    "    'https://www.espncricinfo.com/series/icc-cricket-world-cup-2019-1144415/england-vs-bangladesh-12th-match-1144494/full-scorecard',\n",
    "    'https://www.espncricinfo.com/series/icc-cricket-world-cup-2019-1144415/afghanistan-vs-new-zealand-13th-match-1144495/full-scorecard',\n",
    "    'https://www.espncricinfo.com/series/icc-cricket-world-cup-2019-1144415/australia-vs-india-14th-match-1144496/full-scorecard',\n",
    "    'https://www.espncricinfo.com/series/icc-cricket-world-cup-2019-1144415/south-africa-vs-west-indies-15th-match-1144497/full-scorecard',\n",
    "    'https://www.espncricinfo.com/series/icc-cricket-world-cup-2019-1144415/australia-vs-pakistan-17th-match-1144499/full-scorecard',\n",
    "    'https://www.espncricinfo.com/series/icc-cricket-world-cup-2019-1144415/england-vs-west-indies-19th-match-1144501/full-scorecard',\n",
    "    'https://www.espncricinfo.com/series/icc-cricket-world-cup-2019-1144415/australia-vs-sri-lanka-20th-match-1144502/full-scorecard',\n",
    "    'https://www.espncricinfo.com/series/icc-cricket-world-cup-2019-1144415/afghanistan-vs-south-africa-21st-match-1144503/full-scorecard',\n",
    "    'https://www.espncricinfo.com/series/icc-cricket-world-cup-2019-1144415/india-vs-pakistan-22nd-match-1144504/full-scorecard',\n",
    "    'https://www.espncricinfo.com/series/icc-cricket-world-cup-2019-1144415/bangladesh-vs-west-indies-23rd-match-1144505/full-scorecard',\n",
    "    'https://www.espncricinfo.com/series/icc-cricket-world-cup-2019-1144415/england-vs-afghanistan-24th-match-1144506/full-scorecard',\n",
    "    'https://www.espncricinfo.com/series/icc-cricket-world-cup-2019-1144415/new-zealand-vs-south-africa-25th-match-1144507/full-scorecard',\n",
    "    'https://www.espncricinfo.com/series/icc-cricket-world-cup-2019-1144415/australia-vs-bangladesh-26th-match-1144508/full-scorecard',\n",
    "    'https://www.espncricinfo.com/series/icc-cricket-world-cup-2019-1144415/england-vs-sri-lanka-27th-match-1144509/full-scorecard',\n",
    "    'https://www.espncricinfo.com/series/icc-cricket-world-cup-2019-1144415/afghanistan-vs-india-28th-match-1144510/full-scorecard',\n",
    "    'https://www.espncricinfo.com/series/icc-cricket-world-cup-2019-1144415/new-zealand-vs-west-indies-29th-match-1144511/full-scorecard',\n",
    "    'https://www.espncricinfo.com/series/icc-cricket-world-cup-2019-1144415/pakistan-vs-south-africa-30th-match-1144512/full-scorecard',\n",
    "    'https://www.espncricinfo.com/series/icc-cricket-world-cup-2019-1144415/afghanistan-vs-bangladesh-31st-match-1144513/full-scorecard',\n",
    "    'https://www.espncricinfo.com/series/icc-cricket-world-cup-2019-1144415/england-vs-australia-32nd-match-1144514/full-scorecard',\n",
    "    'https://www.espncricinfo.com/series/icc-cricket-world-cup-2019-1144415/new-zealand-vs-pakistan-33rd-match-1144515/full-scorecard',\n",
    "    'https://www.espncricinfo.com/series/icc-cricket-world-cup-2019-1144415/india-vs-west-indies-34th-match-1144516/full-scorecard',\n",
    "    'https://www.espncricinfo.com/series/icc-cricket-world-cup-2019-1144415/south-africa-vs-sri-lanka-35th-match-1144517/full-scorecard',\n",
    "    'https://www.espncricinfo.com/series/icc-cricket-world-cup-2019-1144415/afghanistan-vs-pakistan-36th-match-1144518/full-scorecard',\n",
    "    'https://www.espncricinfo.com/series/icc-cricket-world-cup-2019-1144415/australia-vs-new-zealand-37th-match-1144519/full-scorecard',\n",
    "    'https://www.espncricinfo.com/series/icc-cricket-world-cup-2019-1144415/england-vs-india-38th-match-1144520/full-scorecard',\n",
    "    'https://www.espncricinfo.com/series/icc-cricket-world-cup-2019-1144415/sri-lanka-vs-west-indies-39th-match-1144521/full-scorecard',\n",
    "    'https://www.espncricinfo.com/series/icc-cricket-world-cup-2019-1144415/bangladesh-vs-india-40th-match-1144522/full-scorecard',\n",
    "    'https://www.espncricinfo.com/series/icc-cricket-world-cup-2019-1144415/england-vs-new-zealand-41st-match-1144523/full-scorecard',\n",
    "    'https://www.espncricinfo.com/series/icc-cricket-world-cup-2019-1144415/afghanistan-vs-west-indies-42nd-match-1144524/full-scorecard',\n",
    "    'https://www.espncricinfo.com/series/icc-cricket-world-cup-2019-1144415/bangladesh-vs-pakistan-43rd-match-1144525/full-scorecard',\n",
    "    'https://www.espncricinfo.com/series/icc-cricket-world-cup-2019-1144415/india-vs-sri-lanka-44th-match-1144526/full-scorecard',\n",
    "    'https://www.espncricinfo.com/series/icc-cricket-world-cup-2019-1144415/australia-vs-south-africa-45th-match-1144527/full-scorecard',\n",
    "    'https://www.espncricinfo.com/series/icc-cricket-world-cup-2019-1144415/india-vs-new-zealand-1st-semi-final-1144528/full-scorecard',\n",
    "    'https://www.espncricinfo.com/series/icc-cricket-world-cup-2019-1144415/england-vs-australia-2nd-semi-final-1144529/full-scorecard',\n",
    "    'https://www.espncricinfo.com/series/icc-cricket-world-cup-2019-1144415/england-vs-new-zealand-final-1144530/full-scorecard'\n",
    "    \n",
    "]\n",
    "\n",
    "# Create an empty list to store the extracted tables\n",
    "tables_list = []\n",
    "\n",
    "# Iterate over each URL\n",
    "for url in urls:\n",
    "    # Extract tables from each URL\n",
    "    tables = pd.read_html(url)\n",
    "    # Get the first and third tables\n",
    "    second_table = tables[1]\n",
    "    fourth_table = tables[3]\n",
    "   \n",
    "    \n",
    "    # Append the filtered tables to the list\n",
    "    tables_list.extend([second_table, fourth_table])\n",
    "\n",
    "# Concatenate the tables in the list\n",
    "combined_table_bowling = pd.concat(tables_list)\n",
    "\n",
    "\n",
    "# Display the combined table\n",
    "\n",
    "df_bowling=pd.DataFrame(combined_table_bowling)\n",
    "df_bowling"
   ]
  },
  {
   "cell_type": "code",
   "execution_count": 10,
   "id": "db6fa6f2",
   "metadata": {},
   "outputs": [],
   "source": [
    "# delete uncessary columns\n",
    "df_bowling = df_bowling.iloc[:, :-8]\n",
    "df_bowling\n"
   ]
  },
  {
   "cell_type": "code",
   "execution_count": 11,
   "id": "06c4578a",
   "metadata": {},
   "outputs": [],
   "source": [
    "# Create a mask to identify rows with cells exceeding a character length of 15 except 1st cell to eliminate the cells that contain commentary.\n",
    "mask = df_bowling.iloc[:, 1:].apply(lambda row: any(len(str(cell)) > 15 for cell in row), axis=1)\n",
    "\n",
    "# Filter the dataframe using the mask\n",
    "df_bowling = df_bowling[~mask]\n",
    "\n",
    "# Reset the index of the dataframe\n",
    "df_bowling.reset_index(drop=True, inplace=True)\n",
    "\n",
    "df_bowling"
   ]
  },
  {
   "cell_type": "code",
   "execution_count": 12,
   "id": "fca83d8f",
   "metadata": {},
   "outputs": [],
   "source": [
    "# rename 1st column to match names\n",
    "df_bowling = df_bowling.rename(columns={\"BOWLING\": \"name\"})\n",
    "df_bowling"
   ]
  },
  {
   "cell_type": "code",
   "execution_count": 13,
   "id": "ee7d4e7f",
   "metadata": {},
   "outputs": [],
   "source": [
    "# make a csv file\n",
    "df_bowling.to_csv('Bowling.csv', index=False)"
   ]
  },
  {
   "cell_type": "markdown",
   "id": "079a5846",
   "metadata": {},
   "source": [
    "### Players information"
   ]
  },
  {
   "cell_type": "code",
   "execution_count": 14,
   "id": "bc4c6623",
   "metadata": {},
   "outputs": [],
   "source": [
    "# create list of players by merging df_batting and df_bowling file\n",
    "# Merge the first column of the dataframes\n",
    "merged_column = pd.concat([df_batting.iloc[:, 0], df_bowling.iloc[:, 0]])\n",
    "\n",
    "# Remove duplicates\n",
    "merged_column = merged_column.drop_duplicates()\n",
    "\n",
    "# make dataframe from merged column\n",
    "df_players=pd.DataFrame(merged_column, columns=['name'])\n",
    "\n",
    "# reset the index\n",
    "df_players.reset_index(drop=True, inplace=True)\n",
    "df_players"
   ]
  },
  {
   "cell_type": "code",
   "execution_count": 15,
   "id": "e7b3950f",
   "metadata": {},
   "outputs": [],
   "source": [
    "#make a csv file\n",
    "df_players.to_csv('Players.csv', index=False)"
   ]
  },
  {
   "cell_type": "code",
   "execution_count": null,
   "id": "b7745699",
   "metadata": {},
   "outputs": [],
   "source": []
  }
 ],
 "metadata": {
  "kernelspec": {
   "display_name": "Python 3 (ipykernel)",
   "language": "python",
   "name": "python3"
  },
  "language_info": {
   "codemirror_mode": {
    "name": "ipython",
    "version": 3
   },
   "file_extension": ".py",
   "mimetype": "text/x-python",
   "name": "python",
   "nbconvert_exporter": "python",
   "pygments_lexer": "ipython3",
   "version": "3.10.7"
  }
 },
 "nbformat": 4,
 "nbformat_minor": 5
}
